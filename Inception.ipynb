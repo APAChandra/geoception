{
  "nbformat": 4,
  "nbformat_minor": 0,
  "metadata": {
    "colab": {
      "name": "Inception.ipynb",
      "provenance": [],
      "collapsed_sections": [],
      "authorship_tag": "ABX9TyPnn03qNhjVk9dUSLLYhlB2",
      "include_colab_link": true
    },
    "kernelspec": {
      "name": "python3",
      "display_name": "Python 3"
    }
  },
  "cells": [
    {
      "cell_type": "markdown",
      "metadata": {
        "id": "view-in-github",
        "colab_type": "text"
      },
      "source": [
        "<a href=\"https://colab.research.google.com/github/APAChandra/geoception/blob/master/Inception.ipynb\" target=\"_parent\"><img src=\"https://colab.research.google.com/assets/colab-badge.svg\" alt=\"Open In Colab\"/></a>"
      ]
    },
    {
      "cell_type": "code",
      "metadata": {
        "id": "07cM2jIJUONY",
        "colab_type": "code",
        "colab": {}
      },
      "source": [
        "import tensorflow as tf\n",
        "from tensorflow.keras.applications import InceptionV3\n",
        "from tensorflow import keras\n",
        "import numpy as np"
      ],
      "execution_count": null,
      "outputs": []
    },
    {
      "cell_type": "code",
      "metadata": {
        "id": "pQmLQQnaVJ6F",
        "colab_type": "code",
        "colab": {}
      },
      "source": [
        "#WILL HOLD THE NUMBER OF GEOGRAPHICAL CELLS WE WILL BE GETTING FROM THE DATASET\n",
        "NUM_CLASSES = 312\n",
        "INPUT_SHAPE = (224, 224, 3)\n",
        "OPTIMIZER = 'Adagrad'"
      ],
      "execution_count": null,
      "outputs": []
    },
    {
      "cell_type": "code",
      "metadata": {
        "id": "_OpkUkIpZt8E",
        "colab_type": "code",
        "colab": {
          "base_uri": "https://localhost:8080/",
          "height": 33
        },
        "outputId": "43c14520-41f1-4f4e-871e-613a551f7acf"
      },
      "source": [
        "#DUMMY DATA\n",
        "DATA_X = np.random.rand(4, 299, 299, 3)\n",
        "DATA_Y =  np.random.rand(4, NUM_CLASSES)\n",
        "print(DATA_X[1].shape)"
      ],
      "execution_count": null,
      "outputs": [
        {
          "output_type": "stream",
          "text": [
            "(299, 299, 3)\n"
          ],
          "name": "stdout"
        }
      ]
    },
    {
      "cell_type": "code",
      "metadata": {
        "id": "AjkgFqJLVVCW",
        "colab_type": "code",
        "colab": {
          "base_uri": "https://localhost:8080/",
          "height": 50
        },
        "outputId": "16aa7d90-14de-4361-9e7d-ef44e2fe59d0"
      },
      "source": [
        "\n",
        "model = tf.keras.applications.InceptionV3(\n",
        "    include_top= True,\n",
        "    weights=None,\n",
        "    input_tensor=None,\n",
        "    input_shape= INPUT_SHAPE,\n",
        "    pooling= None,\n",
        "    classes = NUM_CLASSES,\n",
        "    classifier_activation=\"sigmoid\",\n",
        ")\n",
        "\n",
        "\n",
        "base_learning_rate = 0.0001\n",
        "model.compile(optimizer=tf.keras.optimizers.Adam(lr=base_learning_rate),\n",
        "              loss=tf.keras.losses.CategoricalCrossentropy(from_logits=True),\n",
        "              metrics=['accuracy'])\n",
        "\n",
        "model.fit(x=DATA_X, y=DATA_Y, batch_size=None, epochs=1, verbose=1, callbacks=None,\n",
        "          validation_split=0.0, validation_data=None, shuffle=True, \n",
        "          class_weight=None, sample_weight=None, initial_epoch=0, \n",
        "          steps_per_epoch=None, validation_steps=None, \n",
        "          validation_batch_size=None, validation_freq=1, max_queue_size=10,\n",
        "          workers=1, use_multiprocessing=False)"
      ],
      "execution_count": null,
      "outputs": [
        {
          "output_type": "stream",
          "text": [
            "1/1 [==============================] - 0s 1ms/step - loss: 915.1438 - accuracy: 0.0000e+00\n"
          ],
          "name": "stdout"
        },
        {
          "output_type": "execute_result",
          "data": {
            "text/plain": [
              "<tensorflow.python.keras.callbacks.History at 0x7f461cb72550>"
            ]
          },
          "metadata": {
            "tags": []
          },
          "execution_count": 4
        }
      ]
    }
  ]
}